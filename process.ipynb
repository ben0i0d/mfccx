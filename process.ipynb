{
 "cells": [
  {
   "cell_type": "markdown",
   "metadata": {},
   "source": [
    "Jnp code"
   ]
  },
  {
   "cell_type": "code",
   "execution_count": 1,
   "metadata": {},
   "outputs": [
    {
     "data": {
      "text/plain": [
       "Array([-6.5215478e+00, -1.7378557e+01,  1.8499229e+00, -2.5094213e+00,\n",
       "        3.1532530e-02,  1.8922727e+00, -1.3077401e+00, -5.4825573e+00,\n",
       "       -1.0456098e+00,  7.6139262e-03, -1.0736727e+00,  3.1862919e+00,\n",
       "       -3.1306453e+00], dtype=float32)"
      ]
     },
     "execution_count": 1,
     "metadata": {},
     "output_type": "execute_result"
    }
   ],
   "source": [
    "from mfccx import mfccx\n",
    "import soundfile as sf\n",
    "\n",
    "sig,rate = sf.read('english.wav')\n",
    "mfccx(['english.wav'])[0]"
   ]
  },
  {
   "cell_type": "markdown",
   "metadata": {},
   "source": [
    "Original code"
   ]
  },
  {
   "cell_type": "code",
   "execution_count": 7,
   "metadata": {},
   "outputs": [
    {
     "data": {
      "text/plain": [
       "array([-6.52154744e+00, -1.73785531e+01,  1.84991848e+00, -2.50941215e+00,\n",
       "        3.15409825e-02,  1.89227599e+00, -1.30774847e+00, -5.48254760e+00,\n",
       "       -1.04562938e+00,  7.61588035e-03, -1.07369219e+00,  3.18628590e+00,\n",
       "       -3.13064223e+00])"
      ]
     },
     "execution_count": 7,
     "metadata": {},
     "output_type": "execute_result"
    }
   ],
   "source": [
    "import python_speech_features\n",
    "import soundfile as sf\n",
    "\n",
    "sig,rate = sf.read('english.wav')\n",
    "python_speech_features.mfcc(sig,rate)[0]"
   ]
  }
 ],
 "metadata": {
  "kernelspec": {
   "display_name": ".venv",
   "language": "python",
   "name": "python3"
  },
  "language_info": {
   "codemirror_mode": {
    "name": "ipython",
    "version": 3
   },
   "file_extension": ".py",
   "mimetype": "text/x-python",
   "name": "python",
   "nbconvert_exporter": "python",
   "pygments_lexer": "ipython3",
   "version": "3.13.1"
  }
 },
 "nbformat": 4,
 "nbformat_minor": 2
}
